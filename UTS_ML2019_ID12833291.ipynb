{
  "nbformat": 4,
  "nbformat_minor": 0,
  "metadata": {
    "colab": {
      "name": "UTS_ML2019_ID12833291.ipynb",
      "version": "0.3.2",
      "provenance": [],
      "collapsed_sections": [],
      "include_colab_link": true
    },
    "kernelspec": {
      "name": "python3",
      "display_name": "Python 3"
    }
  },
  "cells": [
    {
      "cell_type": "markdown",
      "metadata": {
        "id": "view-in-github",
        "colab_type": "text"
      },
      "source": [
        "<a href=\"https://colab.research.google.com/github/Mia-Fan/ML2019-assignments/blob/master/UTS_ML2019_ID12833291.ipynb\" target=\"_parent\"><img src=\"https://colab.research.google.com/assets/colab-badge.svg\" alt=\"Open In Colab\"/></a>"
      ]
    },
    {
      "cell_type": "code",
      "metadata": {
        "id": "0Dq3rzWkfiRT",
        "colab_type": "code",
        "colab": {}
      },
      "source": [
        "# "
      ],
      "execution_count": 0,
      "outputs": []
    },
    {
      "cell_type": "markdown",
      "metadata": {
        "id": "1kpE5Bh9odIr",
        "colab_type": "text"
      },
      "source": [
        "# Review Report on &quot;Eigenfaces vs. Fisherfaces: Recognition Using Class Specific Linear Projection&quot;"
      ]
    },
    {
      "cell_type": "code",
      "metadata": {
        "id": "cA6TmF3bgyP-",
        "colab_type": "code",
        "colab": {}
      },
      "source": [
        "# Introduction"
      ],
      "execution_count": 0,
      "outputs": []
    },
    {
      "cell_type": "markdown",
      "metadata": {
        "id": "DRdqWe8GnaMU",
        "colab_type": "text"
      },
      "source": [
        "Facial feature recognition technology is an important part of biometrics. A fast and fast face recognition algorithm can improve face recognition efficiency and reduce the complexity of the algorithm. How to improve the face recognition technology, increase the stability of face recognition, and reduce the time of face recognition is a hot issue in the development of face recognition technology.\n",
        "\n",
        "The facial features are the same as other biological signs, both unique and difficult to replicate, and have important applications in the field of identity identification. In addition, facial feature recognition is also non-mandatory, non-contact, concurrency and other features with high security, high concealment and high stability, enabling long distances. The purpose of real-time comparison and rapid identification in non-cooperating state.\n",
        "\n",
        "In the current information age, consumers demands for information security have increased; at the same time, under the demand for stable social development, the requirements for security have been further improved. As an important branch of biometrics technology, face recognition has obvious comparative advantages and can play a huge role in information security and social security.\n",
        "\n",
        "This report is about the article &quot;Eigenfaces vs. Fisherfaces: Recognition Using Class Specific Linear Projection&quot; by Belhumeur, P.N., Hespanha, J.P. and Kriegman, D.J. in 1997 published in IEEE Transactions on Pattern Analysis &amp; Machine Intelligence. This report will analyze this article from content, innovation, technical quality, application &amp; X-factor and presentation.\n",
        "\n"
      ]
    },
    {
      "cell_type": "code",
      "metadata": {
        "id": "DPboi5WehdG9",
        "colab_type": "code",
        "colab": {}
      },
      "source": [
        "# Content"
      ],
      "execution_count": 0,
      "outputs": []
    },
    {
      "cell_type": "markdown",
      "metadata": {
        "id": "lHYtNzJ1npKa",
        "colab_type": "text"
      },
      "source": [
        "The study is about a face recognition algorithm that is insensitive to large changes in illumination direction and facial expression. In this section, I will discuss the title, purpose, main methods and experimental results of the paper.\n"
      ]
    },
    {
      "cell_type": "code",
      "metadata": {
        "id": "0M35nbAxg6P6",
        "colab_type": "code",
        "colab": {}
      },
      "source": [
        "## The title of this paper"
      ],
      "execution_count": 0,
      "outputs": []
    },
    {
      "cell_type": "markdown",
      "metadata": {
        "id": "-XPyQTdpn4eT",
        "colab_type": "text"
      },
      "source": [
        "The article titled 'Face Faces and Fisherfaces: Using Class-Specific Linear Projection Recognition' represents the two main methods in this article and the main features of the two methods. The keywords are all expressed in the title, and the reader can easily understand the main meaning of the article.\n"
      ]
    },
    {
      "cell_type": "code",
      "metadata": {
        "id": "cYsnuNwYignM",
        "colab_type": "code",
        "colab": {}
      },
      "source": [
        "## Purpose of this article"
      ],
      "execution_count": 0,
      "outputs": []
    },
    {
      "cell_type": "markdown",
      "metadata": {
        "id": "c7JlqtoNoRNP",
        "colab_type": "text"
      },
      "source": [
        "Although face recognition technology is becoming more and more popular, technology is getting faster and faster, but there are still some defects in face recognition. The main purpose of the article is to compare the face and Fisher two face recognition algorithms to compare the error of face recognition results in case of insufficient light or shadow on the face.\n"
      ]
    },
    {
      "cell_type": "code",
      "metadata": {
        "id": "KnwKUMixikdR",
        "colab_type": "code",
        "colab": {}
      },
      "source": [
        "## Purpose of this article"
      ],
      "execution_count": 0,
      "outputs": []
    },
    {
      "cell_type": "markdown",
      "metadata": {
        "id": "EwCYiWjgoVl5",
        "colab_type": "text"
      },
      "source": [
        "Although face recognition technology is becoming more and more popular, technology is getting faster and faster, but there are still some defects in face recognition. The main purpose of the article is to compare the face and Fisher two face recognition algorithms to compare the error of face recognition results in case of insufficient light or shadow on the face.\n"
      ]
    },
    {
      "cell_type": "code",
      "metadata": {
        "id": "IzPDRpQ9imvr",
        "colab_type": "code",
        "colab": {}
      },
      "source": [
        "### Correlation"
      ],
      "execution_count": 0,
      "outputs": []
    },
    {
      "cell_type": "markdown",
      "metadata": {
        "id": "CLmhXfhOpPZr",
        "colab_type": "text"
      },
      "source": [
        "The distance of the image space is identified by assigning an image of the test set to the label of the closest point in the learning set. Normalization refers to the process by which all images are unified into zero mean and unit variance. Correlation is a program that is independent of the intensity of the light source and the effect of the cameras automatic gain control during normalization.\n",
        "\n",
        "Of course, this method has several drawbacks. First, in order for this method to work reliably under illumination changes, we need a learning set that densely samples the continuity of possible lighting conditions. Second, correlation is expensive to calculate. For identification, the image of the test surface must be associated with each image in the learning set. Third, it requires a lot of storage, because the learning set must contain a large number of images for everyone.\n",
        "\n"
      ]
    },
    {
      "cell_type": "code",
      "metadata": {
        "id": "Htw2S1hVimnI",
        "colab_type": "code",
        "colab": {}
      },
      "source": [
        "### Eigenfaces"
      ],
      "execution_count": 0,
      "outputs": []
    },
    {
      "cell_type": "markdown",
      "metadata": {
        "id": "GAEPdEO8pVBt",
        "colab_type": "text"
      },
      "source": [
        "The Eigenfaces approach is primarily about applying PCA technology, which is principal component analysis. PCA technology, also known as the Karhunen-Loeve method, selects a size-reduced linear projection to maximize the scattering of all projected samples. This technique is commonly used to reduce dimensionality in computer vision.\n",
        "\n",
        "The disadvantage of this method is that the scattering is maximized. Not only is it inter-class distribution, it is also useful for intra-class distribution.\n"
      ]
    },
    {
      "cell_type": "code",
      "metadata": {
        "id": "wYA9ZiNTisa6",
        "colab_type": "code",
        "colab": {}
      },
      "source": [
        "### Linear Subspaces"
      ],
      "execution_count": 0,
      "outputs": []
    },
    {
      "cell_type": "markdown",
      "metadata": {
        "id": "tvowlNZhpYCA",
        "colab_type": "text"
      },
      "source": [
        "None of the first two methods utilize observations and are subject to changes in illumination direction. For a Lambertian surface without shadows, the image of a particular face is located in a 3D linear space, that is, for a fixed viewpoint, the image of the Lambertian surface is located in a three-dimensional linear subspace of the high dimensional image space. This fact indicates that Lambertian surfaces that are insensitive to various lighting conditions can be identified using a simple classification algorithm.\n",
        "\n",
        "For each face, three or more images taken in different illumination directions are used to construct the 3D basis of the linear subspace. To perform the recognition, the author simply calculates the distance of the new image to each linear subspace and selects the face corresponding to the shortest distance. And, this identification scheme is called a linear subspace method.\n",
        "\n"
      ]
    },
    {
      "cell_type": "code",
      "metadata": {
        "id": "7yQDfVI0Ran8",
        "colab_type": "code",
        "colab": {}
      },
      "source": [
        "### Fisherfaces"
      ],
      "execution_count": 0,
      "outputs": []
    },
    {
      "cell_type": "markdown",
      "metadata": {
        "id": "2eFOq8a8pf00",
        "colab_type": "text"
      },
      "source": [
        "Under accepted ideal conditions, linear projection can be used to perform dimensionality reduction and maintain linear separability. When people seek to be insensitive to lighting conditions, they support the use of linear methods to reduce the dimensions in face recognition problems.\n",
        "\n",
        "Since the learning set is tagged, it makes sense to use this information to build a more reliable way to reduce the dimensions of the feature space. Here, the authors believe that using a linear-specific method to reduce the size and use a simple classifier in a simplified feature space, a better recognition rate than using a linear subspace method or an eigenface method can be obtained. Fisher&#39;s Linear Discriminant (FLD) is an example of a class-specific approach that attempts to &quot;shape&quot; the scatter in a sense to make it more reliable.\n",
        "\n"
      ]
    },
    {
      "cell_type": "code",
      "metadata": {
        "id": "AQN-G0oTiwZx",
        "colab_type": "code",
        "colab": {}
      },
      "source": [
        "## The results of the experiments"
      ],
      "execution_count": 0,
      "outputs": []
    },
    {
      "cell_type": "markdown",
      "metadata": {
        "id": "yzNcLeSxpks8",
        "colab_type": "text"
      },
      "source": [
        "In this article, the author uses two different databases to present and discuss each of these facial recognition techniques. Since the preconditions of the test include some specific assumptions, the general database does not meet the conditions. So the author used data from the Harvard Robotics Lab, including changes in the lighting system. At the same time, they also built a database in Yale, including facial expressions and lighting changes.\n"
      ]
    },
    {
      "cell_type": "code",
      "metadata": {
        "id": "zQgq0dNYi69g",
        "colab_type": "code",
        "colab": {}
      },
      "source": [
        "### Variation in Lighting"
      ],
      "execution_count": 0,
      "outputs": []
    },
    {
      "cell_type": "markdown",
      "metadata": {
        "id": "zdOGFpnOprJD",
        "colab_type": "text"
      },
      "source": [
        "The first experiment was mainly about how it would behave under variable illumination if the face recognition algorithm used the image of the Lambertian surface in a linear subspace. The specific performance is the comparison of the four algorithms and the image data constructed by Havel Lab, and the recognition error rate of the four algorithms is obtained.\n",
        "\n",
        "In each image in the database, the subject keeps his/her head stable while being illuminated by the primary source. The space in the direction of the source is then sampled in fixed increments, which can be parameterized by the spherical angle (Figure 1).\n",
        "\n",
        "![Figure 1](https://ibb.co/d7MssRW)     \n",
        "\n",
        "\n",
        "The recognition error rate of the last four methods is shown in the following line chart (Figure 2).\n",
        "\n",
        "![Figure 2](https://ibb.co/ZW6d3pv) \n",
        "\n",
        "\n",
        "The recognition error rate results for each illumination angle inferred from Subset1 are shown in the following table (Table 1).\n",
        "\n",
        "![Table 1](https://ibb.co/LzZ5wTX) "
      ]
    },
    {
      "cell_type": "code",
      "metadata": {
        "id": "8B99YPoriQP1",
        "colab_type": "code",
        "colab": {}
      },
      "source": [
        "### Variation in Facial Expression, Eye Wear, and Lighting"
      ],
      "execution_count": 0,
      "outputs": []
    },
    {
      "cell_type": "markdown",
      "metadata": {
        "id": "JV_UBQJYrDwm",
        "colab_type": "text"
      },
      "source": [
        "The test results for this part of the facial expression are very different for different algorithms. The Fisherface method mainly tends to identify areas of the image that are not important in the individual, such as the area around the mouth. For different expressions, this part of the change is relatively large. In addition, the part of the nose, cheeks, and eyebrows does not change much in the expression, and is a stable part, so it is an important feature for identifying individuals.\n",
        "\n",
        "In the whole face test, all the algorithms have a good performance, especially the recognition error rate of the Fisherface algorithm has dropped from 7.3% to 0.6%. Therefore, it is basically possible to confirm the overall shape of the face to make an important feature of face recognition. Of course, in actual application, if the hairstyle and the background change, the full-face image recognition rate may be lowered.\n",
        "\n",
        "When the facial expression changes, the recognition error rate of various algorithms is as shown in the figure below（Figure 3）.\n",
        "\n",
        "![Figure 3](https://ibb.co/gvTpfNX)\n",
        "\n",
        "\n",
        "The various algorithm pairs compare the recognition error rates with the recognition of the full face and the close crop as shown in the following figure (Figure 4) and the following table (Table 2).\n",
        "\n",
        "![Figure 4](https://ibb.co/pWDRtf0)\n",
        "\n",
        "\n",
        "![Table 2](https://ibb.co/zrttWz8)"
      ]
    },
    {
      "cell_type": "code",
      "metadata": {
        "id": "sjU_Max4h3ou",
        "colab_type": "code",
        "colab": {}
      },
      "source": [
        "### Glasses Recognition"
      ],
      "execution_count": 0,
      "outputs": []
    },
    {
      "cell_type": "markdown",
      "metadata": {
        "id": "az2E2jd1q3hD",
        "colab_type": "text"
      },
      "source": [
        "As a feature of the face, glasses can be divided into two types: the wearing glasses and the non-wearing glasses. Because there are only two types, the Fisherface method can be used to project the image onto a straight line. If PCA is used, the feature face selection is used. , then it has nothing to do with the definition of the classification.\n",
        "\n",
        "The data set used in this experiment was 36 images from the Yale database, half of which were worn with glasses. The error recognition rates of the two algorithms obtained by cross-validation are shown in the following table (Table 3).\n",
        "\n",
        "![Table 3](https://ibb.co/KztnzGb)\n",
        "\n",
        "The recognition rate of PCA is close to chance, because in most cases, it will classify images with no glasses into the same category. On the other hand, the Fisherface method can be thought of as deriving a template that is suitable for finding glasses and ignoring other features of the face. Of course, it is expected that the same technique can be applied to recognize facial expressions, wherein the training image set is divided into expression based.\n",
        "\n"
      ]
    },
    {
      "cell_type": "code",
      "metadata": {
        "id": "oDq-mC4Ih-Ls",
        "colab_type": "code",
        "colab": {}
      },
      "source": [
        "# Innovation"
      ],
      "execution_count": 0,
      "outputs": []
    },
    {
      "cell_type": "markdown",
      "metadata": {
        "id": "O3CFc04iqykW",
        "colab_type": "text"
      },
      "source": [
        "The algorithm of face recognition technology introduced in this paper is a relatively basic algorithm. It is also subject to the specific comparison of several algorithms by sin, and it is judged which algorithm is used to identify the accuracy of the image of a person with poor light. Overall it is very innovative. The feature face recognition method and the Fisherface method have their advantages for face recognition. In the scanning recognition of the whole face, the recognition error rate of the Fisherface is significantly lower than that of other methods. The Fisherface can also stably recognize the image when identifying different images with facial expression changes. In addition, when identifying images in different lighting situations, the feature face recognition method and the Fisherface can be effectively recognized to achieve a satisfactory effect. On the whole, these methods are all facial recognition algorithms at the time. The whole article can effectively compare the results of several algorithm tests. It is also worth learning. For the future research, there is a reference direction.\n",
        "\n",
        "Nowadays, the technology for facial recognition has been improved a lot, including not only the richness of algorithms, but also the application of machine learning, which enables more intelligent facial recognition.\n"
      ]
    },
    {
      "cell_type": "code",
      "metadata": {
        "id": "EmYvTQTniBo7",
        "colab_type": "code",
        "colab": {}
      },
      "source": [
        "# Technical quality"
      ],
      "execution_count": 0,
      "outputs": []
    },
    {
      "cell_type": "markdown",
      "metadata": {
        "id": "PyyeHO7Tqs_D",
        "colab_type": "text"
      },
      "source": [
        "As far as the degree of technological development at that time is concerned, the Fisherface is already a relatively high level of technology. Even now, there are many applications of face recognition technology that are developed and improved on the basis of the Fisherface. But now more and more technologies are related to deep machine learning. Or it is said that the two technologies are combined well to achieve the accuracy and efficiency of increasing face recognition. Zhu et al. (2014) designed a deep network that combines feature extraction and reconstruction layers. The former encodes the face image to the face identity-preserving (FIP) feature, which converts them to regulate the view image. Large number of experiments Multi-PIE face database show that it is superior to the most advanced face recognition method. So, using machine learning on previous face recognition techniques can yield more efficient results. Machine learning technology improves face recognition technology, and Fisherface technology reduces the error rate of face recognition technology.\n"
      ]
    },
    {
      "cell_type": "code",
      "metadata": {
        "id": "lMbW2cXCjKUR",
        "colab_type": "code",
        "colab": {}
      },
      "source": [
        "# Application and X-factor"
      ],
      "execution_count": 0,
      "outputs": []
    },
    {
      "cell_type": "markdown",
      "metadata": {
        "id": "Ok43WD1OqpF7",
        "colab_type": "text"
      },
      "source": [
        "This part is divided to two parts, the application and the X-factor of the algorithm."
      ]
    },
    {
      "cell_type": "code",
      "metadata": {
        "id": "ubC7lupziD-s",
        "colab_type": "code",
        "colab": {}
      },
      "source": [
        "## The application of the algorithm"
      ],
      "execution_count": 0,
      "outputs": []
    },
    {
      "cell_type": "markdown",
      "metadata": {
        "id": "1AtpmlE4qlrE",
        "colab_type": "text"
      },
      "source": [
        "Face recognition systems now have many applications, such as security, justice, and access (Melissa 2019). In the security field, a large number of enterprises, houses, communities, schools and other security management are becoming more and more popular, and the face access control system has become a very popular security method. In the field of access, many cities have installed face recognition devices in their train stations to conduct comparisons of people&#39;s cards. In some cities, subway stations can also be used to enter and exit subways through face recognition. In addition, in the judicial field, the public security system will also use the face recognition system to locate fugitives when pursuing fugitives. The prison system will also provide police and security for the prisoners through the face recognition system. These places are well applied to face recognition systems.\n",
        "\n"
      ]
    },
    {
      "cell_type": "code",
      "metadata": {
        "id": "7BOKnY83jIbI",
        "colab_type": "code",
        "colab": {}
      },
      "source": [
        "## The X-factor of the algorithm"
      ],
      "execution_count": 0,
      "outputs": []
    },
    {
      "cell_type": "markdown",
      "metadata": {
        "id": "dp_ippH_qfNN",
        "colab_type": "text"
      },
      "source": [
        "The face recognition system has been widely used in life, but there are still problems that need to be improved when many face recognition problems cannot be quickly and effectively recognized.\n",
        "\n",
        "How to ensure or say how to improve the accuracy and speed of face recognition is still necessary to study and improve step by step in actual research. Therefore, the face recognition system has always been a subject worth studying.\n"
      ]
    },
    {
      "cell_type": "code",
      "metadata": {
        "id": "_bO5inFeiG9W",
        "colab_type": "code",
        "colab": {}
      },
      "source": [
        "# Presentation"
      ],
      "execution_count": 0,
      "outputs": []
    },
    {
      "cell_type": "markdown",
      "metadata": {
        "id": "Vi5_qePUpISi",
        "colab_type": "text"
      },
      "source": [
        "The overall structure of this article is very clear, and the logic of the article is easy to understand.\n",
        "\n",
        "Firstly, the general content and direction of the article are introduced through the abstract part, and the methods used in the article and the simple experimental results are briefly introduced.\n",
        "\n",
        "Later, the introduction section introduced the background environment of the article and the reasons why face recognition technology is worth studying.\n",
        "\n",
        "Later in the Method section, the author introduces the specific experimental methods, as well as the specific operations of these experimental methods, including experimental steps and experimental principles.\n",
        "\n",
        "In the following Results section, the specific performance of the experimental results is analyzed in three aspects, that is, the different results of different experimental methods for different experimental contents are introduced in different aspects.\n",
        "\n",
        "The final Conclusion section summarizes the results of the entire experiment and concludes that the experimental results from the Fisherface experimental method have the least error. At the same time, the Conclusion section also predicted some research directions for future experiments.\n",
        "\n",
        "In general, the structure of the article is clear and logical, and it is easy for the reader to understand the content of the article. The arrangement of each part is also very easy for the reader to read and understand the content of the article.\n"
      ]
    },
    {
      "cell_type": "code",
      "metadata": {
        "id": "mFVmlCZHh0j9",
        "colab_type": "code",
        "colab": {}
      },
      "source": [
        "# References"
      ],
      "execution_count": 0,
      "outputs": []
    },
    {
      "cell_type": "markdown",
      "metadata": {
        "id": "XBAEzIhkongf",
        "colab_type": "text"
      },
      "source": [
        "Belhumeur, P.N., Hespanha, J.P. &amp; Kriegman, D.J., 1997, &#39;Eigenfaces vs. fisherfaces: Recognition using class specific linear projection&#39;, _IEEE Transactions on Pattern Analysis &amp; Machine Intelligence_, no.7, pp.711-720.\n",
        "\n",
        "Melissa, 2019, 'What are the face recognition applications?', viewed on 16 August 2019, <https://www.zhihu.com/question/31255429/answer/648075438>.\n",
        "\n",
        "Zhu, Z., Luo, P., Wang, X. &amp; Tang, X. 2014,'Multi-view perceptron: a deep model for learning face identity and view representations', Advances in Neural Information Processing Systems, pp. 217-25."
      ]
    }
  ]
}